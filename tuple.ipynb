{
  "nbformat": 4,
  "nbformat_minor": 0,
  "metadata": {
    "colab": {
      "name": "tuple.ipynb",
      "provenance": [],
      "collapsed_sections": [],
      "authorship_tag": "ABX9TyNjri0Wcichn6NExn9o/D0v",
      "include_colab_link": true
    },
    "kernelspec": {
      "name": "python3",
      "display_name": "Python 3"
    },
    "language_info": {
      "name": "python"
    }
  },
  "cells": [
    {
      "cell_type": "markdown",
      "metadata": {
        "id": "view-in-github",
        "colab_type": "text"
      },
      "source": [
        "<a href=\"https://colab.research.google.com/github/vasavi2015/PHYTON/blob/main/tuple.ipynb\" target=\"_parent\"><img src=\"https://colab.research.google.com/assets/colab-badge.svg\" alt=\"Open In Colab\"/></a>"
      ]
    },
    {
      "cell_type": "markdown",
      "source": [
        "**How to add items into tuple**"
      ],
      "metadata": {
        "id": "JfEA-jurvrsb"
      }
    },
    {
      "cell_type": "code",
      "source": [
        "a=(\"Apple\",\"banana\",\"Orange\")\n",
        "b=list(a)\n",
        "a.append(2,\"watermelon\")\n",
        "a=tuple(b)\n",
        "print(a)"
      ],
      "metadata": {
        "colab": {
          "base_uri": "https://localhost:8080/",
          "height": 235
        },
        "id": "fB-GslA35wis",
        "outputId": "6c61732f-78d4-4816-9542-f06d30ef8daf"
      },
      "execution_count": 50,
      "outputs": [
        {
          "output_type": "error",
          "ename": "AttributeError",
          "evalue": "ignored",
          "traceback": [
            "\u001b[0;31m---------------------------------------------------------------------------\u001b[0m",
            "\u001b[0;31mAttributeError\u001b[0m                            Traceback (most recent call last)",
            "\u001b[0;32m<ipython-input-50-b6f66d485cde>\u001b[0m in \u001b[0;36m<module>\u001b[0;34m()\u001b[0m\n\u001b[1;32m      1\u001b[0m \u001b[0ma\u001b[0m\u001b[0;34m=\u001b[0m\u001b[0;34m(\u001b[0m\u001b[0;34m\"Apple\"\u001b[0m\u001b[0;34m,\u001b[0m\u001b[0;34m\"banana\"\u001b[0m\u001b[0;34m,\u001b[0m\u001b[0;34m\"Orange\"\u001b[0m\u001b[0;34m)\u001b[0m\u001b[0;34m\u001b[0m\u001b[0;34m\u001b[0m\u001b[0m\n\u001b[1;32m      2\u001b[0m \u001b[0mb\u001b[0m\u001b[0;34m=\u001b[0m\u001b[0mlist\u001b[0m\u001b[0;34m(\u001b[0m\u001b[0ma\u001b[0m\u001b[0;34m)\u001b[0m\u001b[0;34m\u001b[0m\u001b[0;34m\u001b[0m\u001b[0m\n\u001b[0;32m----> 3\u001b[0;31m \u001b[0ma\u001b[0m\u001b[0;34m.\u001b[0m\u001b[0mappend\u001b[0m\u001b[0;34m(\u001b[0m\u001b[0;36m2\u001b[0m\u001b[0;34m,\u001b[0m\u001b[0;34m\"watermelon\"\u001b[0m\u001b[0;34m)\u001b[0m\u001b[0;34m\u001b[0m\u001b[0;34m\u001b[0m\u001b[0m\n\u001b[0m\u001b[1;32m      4\u001b[0m \u001b[0ma\u001b[0m\u001b[0;34m=\u001b[0m\u001b[0mtuple\u001b[0m\u001b[0;34m(\u001b[0m\u001b[0mb\u001b[0m\u001b[0;34m)\u001b[0m\u001b[0;34m\u001b[0m\u001b[0;34m\u001b[0m\u001b[0m\n\u001b[1;32m      5\u001b[0m \u001b[0mprint\u001b[0m\u001b[0;34m(\u001b[0m\u001b[0ma\u001b[0m\u001b[0;34m)\u001b[0m\u001b[0;34m\u001b[0m\u001b[0;34m\u001b[0m\u001b[0m\n",
            "\u001b[0;31mAttributeError\u001b[0m: 'tuple' object has no attribute 'append'"
          ]
        }
      ]
    },
    {
      "cell_type": "markdown",
      "source": [
        "**Tuple to store items**"
      ],
      "metadata": {
        "id": "ZCpGYZWRxtHj"
      }
    },
    {
      "cell_type": "code",
      "source": [
        " tuple =(\"abc\",\"bcd\",\"cda\")\n",
        " print(tuple)"
      ],
      "metadata": {
        "colab": {
          "base_uri": "https://localhost:8080/"
        },
        "id": "peIcGnb_wsp5",
        "outputId": "1b07c75e-6ca6-45fa-9908-1399c0650aad"
      },
      "execution_count": null,
      "outputs": [
        {
          "output_type": "stream",
          "name": "stdout",
          "text": [
            "('abc', 'bcd', 'cda')\n"
          ]
        }
      ]
    },
    {
      "cell_type": "markdown",
      "source": [
        "**Length of tuple**"
      ],
      "metadata": {
        "id": "gcoFFaMnyNd3"
      }
    },
    {
      "cell_type": "code",
      "source": [
        " tuple =(\"abc\",\"bcd\",\"cda\")\n",
        " print(len(tuple))"
      ],
      "metadata": {
        "colab": {
          "base_uri": "https://localhost:8080/"
        },
        "id": "FWh_6bDsyHmj",
        "outputId": "3eda1c47-5649-4ce9-c57f-bd3f5e131d33"
      },
      "execution_count": null,
      "outputs": [
        {
          "output_type": "stream",
          "name": "stdout",
          "text": [
            "3\n"
          ]
        }
      ]
    },
    {
      "cell_type": "markdown",
      "source": [
        "**Create a tuple with one item**"
      ],
      "metadata": {
        "id": "afI_Ew2KyYPg"
      }
    },
    {
      "cell_type": "code",
      "source": [
        " tuple =(\"abc\",)\n",
        " print(type(tuple))\n"
      ],
      "metadata": {
        "colab": {
          "base_uri": "https://localhost:8080/"
        },
        "id": "xDq_olKOySxK",
        "outputId": "9d0b3acd-ff21-418b-c1c7-41a30a0998e4"
      },
      "execution_count": null,
      "outputs": [
        {
          "output_type": "stream",
          "name": "stdout",
          "text": [
            "<class 'tuple'>\n"
          ]
        }
      ]
    },
    {
      "cell_type": "markdown",
      "source": [
        "**Not a tuple**"
      ],
      "metadata": {
        "id": "ay04w-whyn7L"
      }
    },
    {
      "cell_type": "code",
      "source": [
        " tuple =(\"abc\")\n",
        " print(type(tuple))\n"
      ],
      "metadata": {
        "colab": {
          "base_uri": "https://localhost:8080/"
        },
        "id": "eBAhbgrJymW0",
        "outputId": "858d2002-7c87-497a-dd67-a88c7a25eda4"
      },
      "execution_count": null,
      "outputs": [
        {
          "output_type": "stream",
          "name": "stdout",
          "text": [
            "<class 'str'>\n"
          ]
        }
      ]
    },
    {
      "cell_type": "markdown",
      "source": [
        "**Tuple data types**"
      ],
      "metadata": {
        "id": "fV_DatdVzENz"
      }
    },
    {
      "cell_type": "code",
      "source": [
        "tuple1 =(\"abc\",\"bcd\",\"cda\")\n",
        "tuple2 =(\"1\",\"2\",\"3\")\n",
        "tuple3 =(\"true\",\"true\",\"true\")\n",
        "print(tuple1)\n",
        "print(tuple2)\n",
        "print(tuple3)"
      ],
      "metadata": {
        "colab": {
          "base_uri": "https://localhost:8080/"
        },
        "id": "o4CIQvb6y8MC",
        "outputId": "e4abeaea-66e7-4264-ccec-18c2a08a91ca"
      },
      "execution_count": null,
      "outputs": [
        {
          "output_type": "stream",
          "name": "stdout",
          "text": [
            "('abc', 'bcd', 'cda')\n",
            "('1', '2', '3')\n",
            "('true', 'true', 'true')\n"
          ]
        }
      ]
    },
    {
      "cell_type": "markdown",
      "source": [
        "**print certain items in tuple**"
      ],
      "metadata": {
        "id": "FAG0Xjb9z8JP"
      }
    },
    {
      "cell_type": "code",
      "source": [
        " tuple =(\"abc\",\"bcd\",\"cda\")\n",
        " print(tuple[1])"
      ],
      "metadata": {
        "id": "e57vvR6kz5Np",
        "colab": {
          "base_uri": "https://localhost:8080/"
        },
        "outputId": "f99faa27-903d-45aa-fa16-7483b45f973c"
      },
      "execution_count": 12,
      "outputs": [
        {
          "output_type": "stream",
          "name": "stdout",
          "text": [
            "bcd\n"
          ]
        }
      ]
    },
    {
      "cell_type": "markdown",
      "source": [
        "**Negative indexing**"
      ],
      "metadata": {
        "id": "pWNN-bv60ev5"
      }
    },
    {
      "cell_type": "code",
      "source": [
        " #prints last item\n",
        " tuple =(\"abc\",\"bcd\",\"cda\")\n",
        " print(tuple[-1])"
      ],
      "metadata": {
        "id": "aEjYZsk30SDK",
        "colab": {
          "base_uri": "https://localhost:8080/"
        },
        "outputId": "edbb7a22-6c06-4028-b6f1-11b950b4d1d5"
      },
      "execution_count": 13,
      "outputs": [
        {
          "output_type": "stream",
          "name": "stdout",
          "text": [
            "cda\n"
          ]
        }
      ]
    },
    {
      "cell_type": "markdown",
      "source": [
        "**Range of indexes**"
      ],
      "metadata": {
        "id": "WVP_57sa00dr"
      }
    },
    {
      "cell_type": "code",
      "source": [
        "tuple =(\"abc\",\"bcd\",\"cda\")\n",
        "print(tuple[0:2])"
      ],
      "metadata": {
        "colab": {
          "base_uri": "https://localhost:8080/"
        },
        "id": "kr7OTH_80zfK",
        "outputId": "fdeefd54-97a4-48bc-e921-27806899e046"
      },
      "execution_count": 14,
      "outputs": [
        {
          "output_type": "stream",
          "name": "stdout",
          "text": [
            "('abc', 'bcd')\n"
          ]
        }
      ]
    },
    {
      "cell_type": "markdown",
      "source": [
        "**change if item exists**"
      ],
      "metadata": {
        "id": "cPFlqcoF1KHh"
      }
    },
    {
      "cell_type": "code",
      "source": [
        "tuple=(\"abc\",\"bcd\",\"cda\")\n",
        "if \"abc\" in tuple:\n",
        "  print(\"Yes,'abc' in the tuple\")"
      ],
      "metadata": {
        "colab": {
          "base_uri": "https://localhost:8080/"
        },
        "id": "HVK-vAh91IEv",
        "outputId": "00d73435-a9d1-48f7-eeda-5ff5e4fbfbf3"
      },
      "execution_count": 17,
      "outputs": [
        {
          "output_type": "stream",
          "name": "stdout",
          "text": [
            "Yes,'abc' in the tuple\n"
          ]
        }
      ]
    }
  ]
}