{
  "nbformat": 4,
  "nbformat_minor": 0,
  "metadata": {
    "colab": {
      "name": "tuple.ipynb",
      "provenance": [],
      "collapsed_sections": [],
      "include_colab_link": true
    },
    "kernelspec": {
      "name": "python3",
      "display_name": "Python 3"
    },
    "language_info": {
      "name": "python"
    }
  },
  "cells": [
    {
      "cell_type": "markdown",
      "metadata": {
        "id": "view-in-github",
        "colab_type": "text"
      },
      "source": [
        "<a href=\"https://colab.research.google.com/github/vasavi2015/PHYTON/blob/main/tuple.ipynb\" target=\"_parent\"><img src=\"https://colab.research.google.com/assets/colab-badge.svg\" alt=\"Open In Colab\"/></a>"
      ]
    },
    {
      "cell_type": "markdown",
      "source": [
        "**TUPPLE**"
      ],
      "metadata": {
        "id": "JfEA-jurvrsb"
      }
    },
    {
      "cell_type": "markdown",
      "source": [
        "**Tuple to store items**"
      ],
      "metadata": {
        "id": "ZCpGYZWRxtHj"
      }
    },
    {
      "cell_type": "code",
      "source": [
        " tuple =(\"abc\",\"bcd\",\"cda\")\n",
        " print(tuple)"
      ],
      "metadata": {
        "colab": {
          "base_uri": "https://localhost:8080/"
        },
        "id": "peIcGnb_wsp5",
        "outputId": "1b07c75e-6ca6-45fa-9908-1399c0650aad"
      },
      "execution_count": null,
      "outputs": [
        {
          "output_type": "stream",
          "name": "stdout",
          "text": [
            "('abc', 'bcd', 'cda')\n"
          ]
        }
      ]
    },
    {
      "cell_type": "markdown",
      "source": [
        "**Length of tuple**"
      ],
      "metadata": {
        "id": "gcoFFaMnyNd3"
      }
    },
    {
      "cell_type": "code",
      "source": [
        " tuple =(\"abc\",\"bcd\",\"cda\")\n",
        " print(len(tuple))"
      ],
      "metadata": {
        "colab": {
          "base_uri": "https://localhost:8080/"
        },
        "id": "FWh_6bDsyHmj",
        "outputId": "3eda1c47-5649-4ce9-c57f-bd3f5e131d33"
      },
      "execution_count": null,
      "outputs": [
        {
          "output_type": "stream",
          "name": "stdout",
          "text": [
            "3\n"
          ]
        }
      ]
    },
    {
      "cell_type": "markdown",
      "source": [
        "**Create a tuple with one item**"
      ],
      "metadata": {
        "id": "afI_Ew2KyYPg"
      }
    },
    {
      "cell_type": "code",
      "source": [
        " tuple =(\"abc\",)\n",
        " print(type(tuple))\n"
      ],
      "metadata": {
        "colab": {
          "base_uri": "https://localhost:8080/"
        },
        "id": "xDq_olKOySxK",
        "outputId": "9d0b3acd-ff21-418b-c1c7-41a30a0998e4"
      },
      "execution_count": null,
      "outputs": [
        {
          "output_type": "stream",
          "name": "stdout",
          "text": [
            "<class 'tuple'>\n"
          ]
        }
      ]
    },
    {
      "cell_type": "markdown",
      "source": [
        "**Not a tuple**"
      ],
      "metadata": {
        "id": "ay04w-whyn7L"
      }
    },
    {
      "cell_type": "code",
      "source": [
        " tuple =(\"abc\")\n",
        " print(type(tuple))\n"
      ],
      "metadata": {
        "colab": {
          "base_uri": "https://localhost:8080/"
        },
        "id": "eBAhbgrJymW0",
        "outputId": "858d2002-7c87-497a-dd67-a88c7a25eda4"
      },
      "execution_count": null,
      "outputs": [
        {
          "output_type": "stream",
          "name": "stdout",
          "text": [
            "<class 'str'>\n"
          ]
        }
      ]
    },
    {
      "cell_type": "markdown",
      "source": [
        "**Tuple data types**"
      ],
      "metadata": {
        "id": "fV_DatdVzENz"
      }
    },
    {
      "cell_type": "code",
      "source": [
        "tuple1 =(\"abc\",\"bcd\",\"cda\")\n",
        "tuple2 =(\"1\",\"2\",\"3\")\n",
        "tuple3 =(\"true\",\"true\",\"true\")\n",
        "print(tuple1)\n",
        "print(tuple2)\n",
        "print(tuple3)"
      ],
      "metadata": {
        "colab": {
          "base_uri": "https://localhost:8080/"
        },
        "id": "o4CIQvb6y8MC",
        "outputId": "e4abeaea-66e7-4264-ccec-18c2a08a91ca"
      },
      "execution_count": null,
      "outputs": [
        {
          "output_type": "stream",
          "name": "stdout",
          "text": [
            "('abc', 'bcd', 'cda')\n",
            "('1', '2', '3')\n",
            "('true', 'true', 'true')\n"
          ]
        }
      ]
    },
    {
      "cell_type": "markdown",
      "source": [
        "**print certain items in tuple**"
      ],
      "metadata": {
        "id": "FAG0Xjb9z8JP"
      }
    },
    {
      "cell_type": "code",
      "source": [
        " tuple =(\"abc\",\"bcd\",\"cda\")\n",
        " print(tuple[1])"
      ],
      "metadata": {
        "id": "e57vvR6kz5Np",
        "colab": {
          "base_uri": "https://localhost:8080/"
        },
        "outputId": "f99faa27-903d-45aa-fa16-7483b45f973c"
      },
      "execution_count": null,
      "outputs": [
        {
          "output_type": "stream",
          "name": "stdout",
          "text": [
            "bcd\n"
          ]
        }
      ]
    },
    {
      "cell_type": "markdown",
      "source": [
        "**Negative indexing**"
      ],
      "metadata": {
        "id": "pWNN-bv60ev5"
      }
    },
    {
      "cell_type": "code",
      "source": [
        " #prints last item\n",
        " tuple =(\"abc\",\"bcd\",\"cda\")\n",
        " print(tuple[-1])"
      ],
      "metadata": {
        "id": "aEjYZsk30SDK",
        "colab": {
          "base_uri": "https://localhost:8080/"
        },
        "outputId": "edbb7a22-6c06-4028-b6f1-11b950b4d1d5"
      },
      "execution_count": null,
      "outputs": [
        {
          "output_type": "stream",
          "name": "stdout",
          "text": [
            "cda\n"
          ]
        }
      ]
    },
    {
      "cell_type": "markdown",
      "source": [
        "**Range of indexes**"
      ],
      "metadata": {
        "id": "WVP_57sa00dr"
      }
    },
    {
      "cell_type": "code",
      "source": [
        "tuple =(\"abc\",\"bcd\",\"cda\")\n",
        "print(tuple[0:2])"
      ],
      "metadata": {
        "colab": {
          "base_uri": "https://localhost:8080/"
        },
        "id": "kr7OTH_80zfK",
        "outputId": "fdeefd54-97a4-48bc-e921-27806899e046"
      },
      "execution_count": null,
      "outputs": [
        {
          "output_type": "stream",
          "name": "stdout",
          "text": [
            "('abc', 'bcd')\n"
          ]
        }
      ]
    },
    {
      "cell_type": "markdown",
      "source": [
        "**change if item exists**"
      ],
      "metadata": {
        "id": "cPFlqcoF1KHh"
      }
    },
    {
      "cell_type": "code",
      "source": [
        "tuple=(\"abc\",\"bcd\",\"cda\")\n",
        "if \"abc\" in tuple:\n",
        "  print(\"Yes,'abc' in the tuple\")"
      ],
      "metadata": {
        "colab": {
          "base_uri": "https://localhost:8080/"
        },
        "id": "HVK-vAh91IEv",
        "outputId": "00d73435-a9d1-48f7-eeda-5ff5e4fbfbf3"
      },
      "execution_count": null,
      "outputs": [
        {
          "output_type": "stream",
          "name": "stdout",
          "text": [
            "Yes,'abc' in the tuple\n"
          ]
        }
      ]
    },
    {
      "cell_type": "markdown",
      "source": [
        "**Change tuple values**"
      ],
      "metadata": {
        "id": "dk6ZG0RnrB97"
      }
    },
    {
      "cell_type": "code",
      "source": [
        "a=\"abc\",\"bcd\",\"cda\"\n",
        "b=list(a)\n",
        "b[2]=\"cde\"\n",
        "a=tuple(b)\n",
        "print(a)"
      ],
      "metadata": {
        "id": "h1QjimPUrKCs",
        "outputId": "b92518a1-56c3-48b6-de64-c063d6deb94c",
        "colab": {
          "base_uri": "https://localhost:8080/",
          "height": 0
        }
      },
      "execution_count": 1,
      "outputs": [
        {
          "output_type": "stream",
          "name": "stdout",
          "text": [
            "('abc', 'bcd', 'cde')\n"
          ]
        }
      ]
    },
    {
      "cell_type": "markdown",
      "source": [
        "**Add items**"
      ],
      "metadata": {
        "id": "EWscer0srN2h"
      }
    },
    {
      "cell_type": "code",
      "source": [
        "a=\"abc\",\"bcd\",\"cde\"\n",
        "b=list(a)\n",
        "b.append(\"def\")\n",
        "a=tuple(b)\n",
        "print(a)"
      ],
      "metadata": {
        "id": "Ju4VhLqMrMBX",
        "outputId": "3e56465e-0642-4d40-a403-d0ca87415dca",
        "colab": {
          "base_uri": "https://localhost:8080/",
          "height": 0
        }
      },
      "execution_count": 2,
      "outputs": [
        {
          "output_type": "stream",
          "name": "stdout",
          "text": [
            "('abc', 'bcd', 'cde', 'def')\n"
          ]
        }
      ]
    },
    {
      "cell_type": "markdown",
      "source": [
        "**Remove items**"
      ],
      "metadata": {
        "id": "yBBUmLqZrT0M"
      }
    },
    {
      "cell_type": "code",
      "source": [
        "a='abc','bcd','cde'\n",
        "b=list(a)\n",
        "b.remove(\"cde\")\n",
        "a=tuple(b)\n",
        "print(a)"
      ],
      "metadata": {
        "id": "dY5u0O6frSzr",
        "outputId": "17fc234d-81bb-468a-ade3-e28db03808af",
        "colab": {
          "base_uri": "https://localhost:8080/",
          "height": 0
        }
      },
      "execution_count": 3,
      "outputs": [
        {
          "output_type": "stream",
          "name": "stdout",
          "text": [
            "('abc', 'bcd')\n"
          ]
        }
      ]
    },
    {
      "cell_type": "markdown",
      "source": [
        "**Unpacking tuple**"
      ],
      "metadata": {
        "id": "8ZYl1kZZrZfr"
      }
    },
    {
      "cell_type": "code",
      "source": [
        "a='abc','bcd','cde'\n",
        "\n",
        "(green, yellow, red) = a\n",
        "\n",
        "print(green)\n",
        "print(yellow)\n",
        "print(red)"
      ],
      "metadata": {
        "id": "H794g-alr7Co",
        "outputId": "db0503d7-ff95-4343-ee4e-a86a384a4b00",
        "colab": {
          "base_uri": "https://localhost:8080/",
          "height": 0
        }
      },
      "execution_count": 7,
      "outputs": [
        {
          "output_type": "stream",
          "name": "stdout",
          "text": [
            "abc\n",
            "bcd\n",
            "cde\n"
          ]
        }
      ]
    },
    {
      "cell_type": "markdown",
      "source": [
        "**LOOP TUPLES**"
      ],
      "metadata": {
        "id": "U74Tsl9msOC-"
      }
    },
    {
      "cell_type": "code",
      "source": [
        "a='abc','bcd','cde'\n",
        "for x in a:\n",
        "  print(x)"
      ],
      "metadata": {
        "id": "niJYnk3pr_Bv",
        "outputId": "a935b91a-7c17-4a82-8579-609c27f66d20",
        "colab": {
          "base_uri": "https://localhost:8080/",
          "height": 0
        }
      },
      "execution_count": 8,
      "outputs": [
        {
          "output_type": "stream",
          "name": "stdout",
          "text": [
            "abc\n",
            "bcd\n",
            "cde\n"
          ]
        }
      ]
    },
    {
      "cell_type": "markdown",
      "source": [
        "**LOOP THROUGH INDEX NUMBER**"
      ],
      "metadata": {
        "id": "_xmBWH4Zsb-T"
      }
    },
    {
      "cell_type": "code",
      "source": [
        "a='abc','bcd','cde'\n",
        "for x in range(len(a)):\n",
        " print(a[x])"
      ],
      "metadata": {
        "id": "ymofZn9isa5X",
        "outputId": "01fbc81a-9bc1-4093-a1b0-136958769c48",
        "colab": {
          "base_uri": "https://localhost:8080/",
          "height": 0
        }
      },
      "execution_count": 9,
      "outputs": [
        {
          "output_type": "stream",
          "name": "stdout",
          "text": [
            "abc\n",
            "bcd\n",
            "cde\n"
          ]
        }
      ]
    },
    {
      "cell_type": "markdown",
      "source": [
        "**USING A WHILE LOOP**"
      ],
      "metadata": {
        "id": "kMcqG8a4s8Uh"
      }
    },
    {
      "cell_type": "code",
      "source": [
        "thistuple = (\"apple\", \"banana\", \"cherry\")\n",
        "i = 0\n",
        "while i < len(thistuple):\n",
        "  print(thistuple[i])\n",
        "  i = i + 1"
      ],
      "metadata": {
        "id": "9JbZZ766s7aM",
        "outputId": "87c0d4ed-b8f1-4186-b348-45e007e331e8",
        "colab": {
          "base_uri": "https://localhost:8080/",
          "height": 0
        }
      },
      "execution_count": 10,
      "outputs": [
        {
          "output_type": "stream",
          "name": "stdout",
          "text": [
            "apple\n",
            "banana\n",
            "cherry\n"
          ]
        }
      ]
    },
    {
      "cell_type": "code",
      "source": [
        ""
      ],
      "metadata": {
        "id": "MlxyxN3KtR1s"
      },
      "execution_count": null,
      "outputs": []
    }
  ]
}