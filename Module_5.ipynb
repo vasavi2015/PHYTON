{
  "nbformat": 4,
  "nbformat_minor": 0,
  "metadata": {
    "colab": {
      "name": "Module 5.ipynb",
      "provenance": [],
      "authorship_tag": "ABX9TyM8VZ0bqu0x9y+rCjgyj0RH",
      "include_colab_link": true
    },
    "kernelspec": {
      "name": "python3",
      "display_name": "Python 3"
    },
    "language_info": {
      "name": "python"
    }
  },
  "cells": [
    {
      "cell_type": "markdown",
      "metadata": {
        "id": "view-in-github",
        "colab_type": "text"
      },
      "source": [
        "<a href=\"https://colab.research.google.com/github/vasavi2015/PHYTON/blob/main/Module_5.ipynb\" target=\"_parent\"><img src=\"https://colab.research.google.com/assets/colab-badge.svg\" alt=\"Open In Colab\"/></a>"
      ]
    },
    {
      "cell_type": "markdown",
      "source": [
        "## Search"
      ],
      "metadata": {
        "id": "fYK0p39IMrV1"
      }
    },
    {
      "cell_type": "code",
      "execution_count": 5,
      "metadata": {
        "colab": {
          "base_uri": "https://localhost:8080/"
        },
        "id": "qRHzLNqVJVBf",
        "outputId": "f1513662-58c7-4721-f480-74847bc10ee7"
      },
      "outputs": [
        {
          "output_type": "stream",
          "name": "stdout",
          "text": [
            "YES\n"
          ]
        }
      ],
      "source": [
        "import re\n",
        "txt=\"Hi Hello, This is Vasavi\"\n",
        "x=re.search(\"Vasavi\",txt)\n",
        "if x:\n",
        "  print(\"YES\")\n",
        "else:\n",
        "  print(\"NO\")"
      ]
    },
    {
      "cell_type": "markdown",
      "source": [
        "## Findall"
      ],
      "metadata": {
        "id": "z7V3yoUpMogZ"
      }
    },
    {
      "cell_type": "code",
      "source": [
        "import re\n",
        "txt=\"Sports is such an activity that it can be taken up by anyone; at any age and any point in life. Adults, children and elders – everyone alike can take part in sports. Many regard sports as a mere co-curricular or extra-curricular activity in schools. However, in reality, sports play an equally important role as does education in a person’s life. To achieve overall and all-round development in life, one should be well-versed in both sports and culture. While training sharpens the mind, sports sharpens the body and fitness. Thus, both are essential.\"\n",
        "x = re.findall(\"en\", txt)\n",
        "print(x)"
      ],
      "metadata": {
        "colab": {
          "base_uri": "https://localhost:8080/"
        },
        "id": "H7ca6dJPLAWV",
        "outputId": "903b10f8-0705-4830-ab13-5e6a22aa6a5d"
      },
      "execution_count": 12,
      "outputs": [
        {
          "output_type": "stream",
          "name": "stdout",
          "text": [
            "['en', 'en', 'en', 'en', 'en', 'en']\n"
          ]
        }
      ]
    },
    {
      "cell_type": "code",
      "source": [
        "import re\n",
        "txt=\"Sports is such an activity that it can be taken up by anyone; at any age and any point in life. Adults, children and elders – everyone alike can take part in sports. Many regard sports as a mere co-curricular or extra-curricular activity in schools. However, in reality, sports play an equally important role as does education in a person’s life. To achieve overall and all-round development in life, one should be well-versed in both sports and culture. While training sharpens the mind, sports sharpens the body and fitness. Thus, both are essential.\"\n",
        "x = re.findall(\"activity\", txt)\n",
        "print(x)\n",
        "if x:\n",
        "  print(\"YES\")\n",
        "else:\n",
        "  print(\"NO\")"
      ],
      "metadata": {
        "colab": {
          "base_uri": "https://localhost:8080/"
        },
        "id": "eFRKSISBMkpN",
        "outputId": "7fe2c5e4-c721-4d28-b6bb-80b5e16a9337"
      },
      "execution_count": 13,
      "outputs": [
        {
          "output_type": "stream",
          "name": "stdout",
          "text": [
            "['activity', 'activity']\n",
            "YES\n"
          ]
        }
      ]
    },
    {
      "cell_type": "code",
      "source": [
        "import re\n",
        "txt=\"Sports is such an activity that it can be taken up by anyone; at any age and any point in life. Adults, children and elders – everyone alike can take part in sports. Many regard sports as a mere co-curricular or extra-curricular activity in schools. However, in reality, sports play an equally important role as does education in a person’s life. To achieve overall and all-round development in life, one should be well-versed in both sports and culture. While training sharpens the mind, sports sharpens the body and fitness. Thus, both are essential.\"\n",
        "x = re.findall(\"[a-c]\", txt)\n",
        "print(x)"
      ],
      "metadata": {
        "colab": {
          "base_uri": "https://localhost:8080/"
        },
        "id": "bFZ4RNxkM0Pw",
        "outputId": "7d4bf8e7-eea5-4d8f-b599-51aef32c3779"
      },
      "execution_count": 15,
      "outputs": [
        {
          "output_type": "stream",
          "name": "stdout",
          "text": [
            "['c', 'a', 'a', 'c', 'a', 'c', 'a', 'b', 'a', 'b', 'a', 'a', 'a', 'a', 'a', 'a', 'c', 'a', 'a', 'c', 'a', 'a', 'a', 'a', 'a', 'a', 'a', 'c', 'c', 'c', 'a', 'a', 'c', 'c', 'a', 'a', 'c', 'c', 'a', 'a', 'a', 'a', 'a', 'a', 'c', 'a', 'a', 'a', 'c', 'a', 'a', 'a', 'b', 'b', 'a', 'c', 'a', 'a', 'a', 'b', 'a', 'b', 'a', 'a']\n"
          ]
        }
      ]
    },
    {
      "cell_type": "code",
      "source": [
        "import re\n",
        "txt=\"Sports is such an activity that it can be taken up by anyone 20,40; at any age and any point in life. Adults, children and elders – everyone alike can take part in sports. Many regard sports as a mere co-curricular or extra-curricular activity in schools. However, in reality, sports play an equally important role as does education in a person’s life. To achieve overall and all-round development in life, one should be well-versed in both sports and culture. While training sharpens the mind, sports sharpens the body and fitness. Thus, both are essential.\"\n",
        "x = re.findall(\"\\d\", txt)\n",
        "print(x)"
      ],
      "metadata": {
        "colab": {
          "base_uri": "https://localhost:8080/"
        },
        "id": "Yy1a-sodNJav",
        "outputId": "f7fe2cf4-2dc5-482d-b676-d7f50ffda967"
      },
      "execution_count": 16,
      "outputs": [
        {
          "output_type": "stream",
          "name": "stdout",
          "text": [
            "['2', '0', '4', '0']\n"
          ]
        }
      ]
    },
    {
      "cell_type": "code",
      "source": [
        "import re\n",
        "txt=\"Hi Hello, This is Vasavi\"\n",
        "x=re.findall(\"Va...i\",txt)\n",
        "print(x)"
      ],
      "metadata": {
        "colab": {
          "base_uri": "https://localhost:8080/"
        },
        "id": "1HS9lGX6Nfan",
        "outputId": "5cf60100-98e4-4fd1-8457-ba8eb8600d56"
      },
      "execution_count": 17,
      "outputs": [
        {
          "output_type": "stream",
          "name": "stdout",
          "text": [
            "['Vasavi']\n"
          ]
        }
      ]
    },
    {
      "cell_type": "code",
      "source": [
        "import re\n",
        "txt=\"Hi Hello, This is Vasavi\"\n",
        "x = re.split(\"\\s\", txt)\n",
        "print(x)\n"
      ],
      "metadata": {
        "colab": {
          "base_uri": "https://localhost:8080/"
        },
        "id": "naDiFt7eOFz9",
        "outputId": "e3af7ef8-b5d1-4c09-c820-c9c0102b13c8"
      },
      "execution_count": 18,
      "outputs": [
        {
          "output_type": "stream",
          "name": "stdout",
          "text": [
            "['Hi', 'Hello,', 'This', 'is', 'Vasavi']\n"
          ]
        }
      ]
    },
    {
      "cell_type": "code",
      "source": [
        "import re\n",
        "txt=\"Hi Hello, This is Vasavi\"\n",
        "x = re.split(\"\\s\", txt,2)\n",
        "print(x)"
      ],
      "metadata": {
        "colab": {
          "base_uri": "https://localhost:8080/"
        },
        "id": "ZYLBz9bePcqq",
        "outputId": "c86b5726-a4ab-4b6f-be60-aaf8d9860c6a"
      },
      "execution_count": 20,
      "outputs": [
        {
          "output_type": "stream",
          "name": "stdout",
          "text": [
            "['Hi', 'Hello,', 'This is Vasavi']\n"
          ]
        }
      ]
    },
    {
      "cell_type": "markdown",
      "source": [
        "## Sub"
      ],
      "metadata": {
        "id": "86Oct9SFPqcw"
      }
    },
    {
      "cell_type": "code",
      "source": [
        "import re\n",
        "txt=\"Hi Hello, This is Vasavi\"\n",
        "x = re.sub(\"\\s\",\"2\",txt)\n",
        "print(x)"
      ],
      "metadata": {
        "colab": {
          "base_uri": "https://localhost:8080/"
        },
        "id": "_9qYXFu3Pl7K",
        "outputId": "35e7ea36-d8b1-43b3-eef4-12980f75d7e8"
      },
      "execution_count": 21,
      "outputs": [
        {
          "output_type": "stream",
          "name": "stdout",
          "text": [
            "Hi2Hello,2This2is2Vasavi\n"
          ]
        }
      ]
    },
    {
      "cell_type": "code",
      "source": [
        "import re\n",
        "txt=\"Hi Hello, This is Vasavi\"\n",
        "x = re.sub(\"\\s\",\"3\",txt, 2)\n",
        "print(x)"
      ],
      "metadata": {
        "colab": {
          "base_uri": "https://localhost:8080/"
        },
        "id": "wBk2Wb4ZQBG7",
        "outputId": "b1cd7669-a3d0-40c0-8ade-136a3d06d2c7"
      },
      "execution_count": 23,
      "outputs": [
        {
          "output_type": "stream",
          "name": "stdout",
          "text": [
            "Hi3Hello,3This is Vasavi\n"
          ]
        }
      ]
    },
    {
      "cell_type": "code",
      "source": [
        "import re\n",
        "txt=\"Sports is such an activity that it can be taken up by anyone; at any age and any point in life. Adults, children and elders – everyone alike can take part in sports. Many regard sports as a mere co-curricular or extra-curricular activity in schools. However, in reality, sports play an equally important role as does education in a person’s life. To achieve overall and all-round development in life, one should be well-versed in both sports and culture. While training sharpens the mind, sports sharpens the body and fitness. Thus, both are essential.\"\n",
        "x = re.sub(\"\\s\", \" 2\", txt, 30)\n",
        "print(x)"
      ],
      "metadata": {
        "colab": {
          "base_uri": "https://localhost:8080/"
        },
        "id": "lIJkvL3lQLm0",
        "outputId": "31eebff4-87f7-4e5c-82e6-a5decfb2cb61"
      },
      "execution_count": 26,
      "outputs": [
        {
          "output_type": "stream",
          "name": "stdout",
          "text": [
            "Sports 2is 2such 2an 2activity 2that 2it 2can 2be 2taken 2up 2by 2anyone; 2at 2any 2age 2and 2any 2point 2in 2life. 2Adults, 2children 2and 2elders 2– 2everyone 2alike 2can 2take 2part in sports. Many regard sports as a mere co-curricular or extra-curricular activity in schools. However, in reality, sports play an equally important role as does education in a person’s life. To achieve overall and all-round development in life, one should be well-versed in both sports and culture. While training sharpens the mind, sports sharpens the body and fitness. Thus, both are essential.\n"
          ]
        }
      ]
    },
    {
      "cell_type": "markdown",
      "source": [
        "## Metacharacters"
      ],
      "metadata": {
        "id": "zfHO1jihQoKG"
      }
    },
    {
      "cell_type": "code",
      "source": [
        ""
      ],
      "metadata": {
        "id": "E4C5nVj8QdCR"
      },
      "execution_count": null,
      "outputs": []
    }
  ]
}