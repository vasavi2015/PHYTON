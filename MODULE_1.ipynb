{
  "nbformat": 4,
  "nbformat_minor": 0,
  "metadata": {
    "colab": {
      "name": "MODULE 1.ipynb",
      "provenance": [],
      "authorship_tag": "ABX9TyMznBBJM7QdbmRF1txJOi4f",
      "include_colab_link": true
    },
    "kernelspec": {
      "name": "python3",
      "display_name": "Python 3"
    },
    "language_info": {
      "name": "python"
    }
  },
  "cells": [
    {
      "cell_type": "markdown",
      "metadata": {
        "id": "view-in-github",
        "colab_type": "text"
      },
      "source": [
        "<a href=\"https://colab.research.google.com/github/vasavi2015/PHYTON/blob/main/MODULE_1.ipynb\" target=\"_parent\"><img src=\"https://colab.research.google.com/assets/colab-badge.svg\" alt=\"Open In Colab\"/></a>"
      ]
    },
    {
      "cell_type": "markdown",
      "source": [
        "**Accept input from user and store it in variable and print the value.**\n"
      ],
      "metadata": {
        "id": "6MbzreRxeC8v"
      }
    },
    {
      "cell_type": "code",
      "execution_count": 1,
      "metadata": {
        "colab": {
          "base_uri": "https://localhost:8080/"
        },
        "id": "7ZnlrZ6rde--",
        "outputId": "a53093ad-f7e5-45b5-bee8-ad95892aadc7"
      },
      "outputs": [
        {
          "output_type": "stream",
          "name": "stdout",
          "text": [
            "2\n",
            "3\n",
            "99\n"
          ]
        }
      ],
      "source": [
        "a=400\n",
        "b=300\n",
        "c=int(input())\n",
        "d=int(input())\n",
        "e=a-(b)+(c)-(d)\n",
        "print(e)"
      ]
    },
    {
      "cell_type": "markdown",
      "source": [
        "**Use of print statements and use of (.format )for printing different data types.**"
      ],
      "metadata": {
        "id": "9Dh-5D1hg_x6"
      }
    },
    {
      "cell_type": "code",
      "source": [
        ""
      ],
      "metadata": {
        "id": "L8Qgu6CigzZR"
      },
      "execution_count": null,
      "outputs": []
    },
    {
      "cell_type": "markdown",
      "source": [
        "**Take 2 numbers as user input and add, multiply, divide, subtract, remainder**"
      ],
      "metadata": {
        "id": "FN9NS1xCh2ZY"
      }
    },
    {
      "cell_type": "code",
      "source": [
        "a=int(input(\"Enter a number\"))\n",
        "b=int(input(\"Enter a number\"))\n",
        "print(\"Enter which operation would you like to perform?\")\n",
        "ch = input(\"Enter any of these char for specific operation +,-,*,/: \")\n",
        "\n",
        "result = 0\n",
        "if ch == '+':\n",
        "    result = a + b\n",
        "elif ch == '-':\n",
        "    result = a - b\n",
        "elif ch == '*':\n",
        "    result = a * b\n",
        "elif ch == '/':\n",
        "    result = a / b\n",
        "else:\n",
        "    print(\"Input character is not recognized!\")\n",
        "\n",
        "print(a, ch , b, \":\", result)"
      ],
      "metadata": {
        "colab": {
          "base_uri": "https://localhost:8080/"
        },
        "id": "tf87J7UYh85Y",
        "outputId": "12dce895-f3b1-4f1a-f536-ace96ca34c7d"
      },
      "execution_count": 3,
      "outputs": [
        {
          "output_type": "stream",
          "name": "stdout",
          "text": [
            "Enter a number5\n",
            "Enter a number3\n",
            "Enter which operation would you like to perform?\n",
            "Enter any of these char for specific operation +,-,*,/: *\n",
            "5 * 3 : 15\n"
          ]
        }
      ]
    },
    {
      "cell_type": "code",
      "source": [
        "from typing import ByteString\n",
        "a=int(input(\"Enter a number\"))\n",
        "b=int(input(\"Enter a number\"))\n",
        "c=a+b\n",
        "d=a-b\n",
        "e=a*b\n",
        "f=a/b\n",
        "g=a%b\n",
        "print(c)\n",
        "print(d)\n",
        "print(e)\n",
        "print(f)\n",
        "print(g)"
      ],
      "metadata": {
        "colab": {
          "base_uri": "https://localhost:8080/"
        },
        "id": "B7e7UugRit0C",
        "outputId": "0188bbf5-96cd-400d-dada-cf0f8997b640"
      },
      "execution_count": 5,
      "outputs": [
        {
          "output_type": "stream",
          "name": "stdout",
          "text": [
            "Enter a number56\n",
            "Enter a number65\n",
            "121\n",
            "-9\n",
            "3640\n",
            "0.8615384615384616\n",
            "56\n"
          ]
        }
      ]
    },
    {
      "cell_type": "markdown",
      "source": [
        "**conversion of one unit to another**"
      ],
      "metadata": {
        "id": "7ulIeHlcjvBr"
      }
    },
    {
      "cell_type": "code",
      "source": [
        "#hours to minutes\n",
        "h=int(input(\"Enter hours\"))\n",
        "m=h*60\n",
        "print(m,\"minutes\")\n",
        "\n",
        "\n",
        "#km to meters and centimeters\n",
        "km=int(input(\"enter km:\"))\n",
        "m=km*1000\n",
        "cm=m*100\n",
        "print(m,\"metres\")\n",
        "print(cm,\"centimeters\")"
      ],
      "metadata": {
        "colab": {
          "base_uri": "https://localhost:8080/"
        },
        "id": "ALCwONO9jMlh",
        "outputId": "6cf56f59-5397-44cd-d48f-b09e53e4ab98"
      },
      "execution_count": 9,
      "outputs": [
        {
          "output_type": "stream",
          "name": "stdout",
          "text": [
            "Enter hours2\n",
            "120 minutes\n",
            "enter km:2\n",
            "2000 metres\n",
            "200000 centimeters\n"
          ]
        }
      ]
    },
    {
      "cell_type": "markdown",
      "source": [
        "**Accepting 5 different subject marks from user and displaying the grade of the student.**"
      ],
      "metadata": {
        "id": "E72KoF6rmpr9"
      }
    },
    {
      "cell_type": "code",
      "source": [
        "a=int(input(\"Enter marks of english\"))\n",
        "b=int(input(\"Enter marks of hindi\"))\n",
        "c=int(input(\"Enter marks of science\"))\n",
        "d=int(input(\"Enter marks of social\"))\n",
        "e=int(input(\"Enter marks of math\"))\n",
        "avg=(a+b+c+d+e)/5\n",
        "if(avg>90):\n",
        "  print(\"Grade A\")\n",
        "elif(avg>=80&avg<90):\n",
        "        print(\"Grade B\")\n",
        "elif(avg>=70&avg<80):\n",
        "    print(\"Grade C\")\n",
        "elif  (avg>=60&avg<70):\n",
        "     print(\"Grade D\")\n",
        "else:\n",
        " print(\"Grade F\")"
      ],
      "metadata": {
        "colab": {
          "base_uri": "https://localhost:8080/"
        },
        "id": "wklt3kjnlSyM",
        "outputId": "998347f6-63ae-4a7b-dd2a-45b1f576499f"
      },
      "execution_count": 14,
      "outputs": [
        {
          "output_type": "stream",
          "name": "stdout",
          "text": [
            "Enter marks of english95\n",
            "Enter marks of hindi99\n",
            "Enter marks of science95\n",
            "Enter marks of social95\n",
            "Enter marks of math95\n",
            "Grade A\n"
          ]
        }
      ]
    },
    {
      "cell_type": "code",
      "source": [
        ""
      ],
      "metadata": {
        "id": "N0fq0p7RnyVB"
      },
      "execution_count": null,
      "outputs": []
    }
  ]
}