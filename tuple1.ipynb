{
  "nbformat": 4,
  "nbformat_minor": 0,
  "metadata": {
    "colab": {
      "name": "tuple1.ipynb",
      "provenance": [],
      "collapsed_sections": [],
      "authorship_tag": "ABX9TyMcdEZA15G3vYQ+SQMOWEJx",
      "include_colab_link": true
    },
    "kernelspec": {
      "name": "python3",
      "display_name": "Python 3"
    },
    "language_info": {
      "name": "python"
    }
  },
  "cells": [
    {
      "cell_type": "markdown",
      "metadata": {
        "id": "view-in-github",
        "colab_type": "text"
      },
      "source": [
        "<a href=\"https://colab.research.google.com/github/vasavi2015/PHYTON/blob/main/tuple1.ipynb\" target=\"_parent\"><img src=\"https://colab.research.google.com/assets/colab-badge.svg\" alt=\"Open In Colab\"/></a>"
      ]
    },
    {
      "cell_type": "markdown",
      "source": [
        "**Change tuple values**"
      ],
      "metadata": {
        "id": "_IZ0Yatf65JZ"
      }
    },
    {
      "cell_type": "code",
      "execution_count": null,
      "metadata": {
        "colab": {
          "base_uri": "https://localhost:8080/"
        },
        "id": "iaVyetr06ZEV",
        "outputId": "dfe8b946-2e38-448a-d4cf-5e26e4166454"
      },
      "outputs": [
        {
          "output_type": "stream",
          "name": "stdout",
          "text": [
            "('abc', 'bcd', 'cde')\n"
          ]
        }
      ],
      "source": [
        "a=\"abc\",\"bcd\",\"cda\"\n",
        "b=list(a)\n",
        "b[2]=\"cde\"\n",
        "a=tuple(b)\n",
        "print(a)"
      ]
    },
    {
      "cell_type": "markdown",
      "source": [
        "**Add items**"
      ],
      "metadata": {
        "id": "S_260HqV6_y8"
      }
    },
    {
      "cell_type": "code",
      "source": [
        "a=\"abc\",\"bcd\",\"cde\"\n",
        "b=list(a)\n",
        "b.append(\"def\")\n",
        "a=tuple(b)\n",
        "print(a)"
      ],
      "metadata": {
        "colab": {
          "base_uri": "https://localhost:8080/"
        },
        "id": "ArhGBT1x6ztK",
        "outputId": "1e5affb5-06fc-4286-81fe-e904aeef69c0"
      },
      "execution_count": null,
      "outputs": [
        {
          "output_type": "stream",
          "name": "stdout",
          "text": [
            "('abc', 'bcd', 'cde', 'def')\n"
          ]
        }
      ]
    },
    {
      "cell_type": "markdown",
      "source": [
        "**Remove items**"
      ],
      "metadata": {
        "id": "tcg60wy87cqp"
      }
    },
    {
      "cell_type": "code",
      "source": [
        "a='abc','bcd','cde'\n",
        "b=list(a)\n",
        "b.remove(\"cde\")\n",
        "a=tuple(b)\n",
        "print(a)"
      ],
      "metadata": {
        "colab": {
          "base_uri": "https://localhost:8080/"
        },
        "id": "vR_9MB6x7XH-",
        "outputId": "9baacf2f-d6fa-4f44-abb4-25333e0b42e1"
      },
      "execution_count": null,
      "outputs": [
        {
          "output_type": "stream",
          "name": "stdout",
          "text": [
            "('abc', 'bcd')\n"
          ]
        }
      ]
    },
    {
      "cell_type": "markdown",
      "source": [
        "**Unpacking tuple**"
      ],
      "metadata": {
        "id": "hOCX8vCy7yE-"
      }
    },
    {
      "cell_type": "code",
      "source": [
        ""
      ],
      "metadata": {
        "id": "ZjEU0CLl7tTX"
      },
      "execution_count": null,
      "outputs": []
    }
  ]
}