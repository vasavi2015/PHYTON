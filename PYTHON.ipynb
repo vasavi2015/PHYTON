{
  "cells": [
    {
      "cell_type": "markdown",
      "metadata": {
        "id": "view-in-github",
        "colab_type": "text"
      },
      "source": [
        "<a href=\"https://colab.research.google.com/github/vasavi2015/PHYTON/blob/main/PYTHON.ipynb\" target=\"_parent\"><img src=\"https://colab.research.google.com/assets/colab-badge.svg\" alt=\"Open In Colab\"/></a>"
      ]
    },
    {
      "cell_type": "markdown",
      "id": "4e76b62b",
      "metadata": {
        "id": "4e76b62b"
      },
      "source": [
        "## Average of three numbers"
      ]
    },
    {
      "cell_type": "code",
      "execution_count": null,
      "id": "f376e250",
      "metadata": {
        "id": "f376e250"
      },
      "outputs": [],
      "source": [
        "a=10\n",
        "b=20\n",
        "c=30\n",
        "avg=(a+b+c)/3\n",
        "print(avg)\n",
        "print(type(avg))"
      ]
    },
    {
      "cell_type": "markdown",
      "id": "62045af6",
      "metadata": {
        "id": "62045af6"
      },
      "source": [
        "## Multiplication of numbers"
      ]
    },
    {
      "cell_type": "code",
      "execution_count": null,
      "id": "dad01a07",
      "metadata": {
        "id": "dad01a07"
      },
      "outputs": [],
      "source": [
        "a=4\n",
        "b=2\n",
        "c=a*b\n",
        "print(c)\n",
        "print(type(c))"
      ]
    },
    {
      "cell_type": "markdown",
      "id": "319e661c",
      "metadata": {
        "id": "319e661c"
      },
      "source": [
        "## Dynamic addition of two numbers"
      ]
    },
    {
      "cell_type": "code",
      "execution_count": null,
      "id": "f0e426e1",
      "metadata": {
        "id": "f0e426e1"
      },
      "outputs": [],
      "source": [
        "a=int(input(\"Enter the number:\"))\n",
        "b=int(input(\"Enter the number:\"))\n",
        "add=a+b\n",
        "print(add)\n",
        "print(type(add))"
      ]
    },
    {
      "cell_type": "markdown",
      "id": "570cda8a",
      "metadata": {
        "id": "570cda8a"
      },
      "source": [
        "## Type conversions"
      ]
    },
    {
      "cell_type": "markdown",
      "id": "db3d4092",
      "metadata": {
        "id": "db3d4092"
      },
      "source": [
        "## convert int to float"
      ]
    },
    {
      "cell_type": "code",
      "execution_count": null,
      "id": "09f81542",
      "metadata": {
        "id": "09f81542"
      },
      "outputs": [],
      "source": [
        "a=10\n",
        "print(type(a))\n",
        "b=float(a)\n",
        "print(type(b))\n",
        "print(a)\n",
        "print(b)\n"
      ]
    },
    {
      "cell_type": "markdown",
      "id": "0a61d23e",
      "metadata": {
        "id": "0a61d23e"
      },
      "source": [
        "## float to int"
      ]
    },
    {
      "cell_type": "code",
      "execution_count": null,
      "id": "c086c28b",
      "metadata": {
        "id": "c086c28b"
      },
      "outputs": [],
      "source": [
        "a=15.5\n",
        "print(type(a))\n",
        "b=int(a)\n",
        "print(type(b))\n",
        "print(b)"
      ]
    },
    {
      "cell_type": "markdown",
      "id": "3e5e7faa",
      "metadata": {
        "id": "3e5e7faa"
      },
      "source": [
        "## int to string"
      ]
    },
    {
      "cell_type": "code",
      "execution_count": null,
      "id": "9ac7ba8c",
      "metadata": {
        "id": "9ac7ba8c"
      },
      "outputs": [],
      "source": [
        "a=15\n",
        "b=str(a)\n",
        "print(type(a))\n",
        "print(type(b))"
      ]
    },
    {
      "cell_type": "markdown",
      "id": "3f3a6ace",
      "metadata": {
        "id": "3f3a6ace"
      },
      "source": [
        "## float to string "
      ]
    },
    {
      "cell_type": "code",
      "execution_count": null,
      "id": "bc80933e",
      "metadata": {
        "id": "bc80933e"
      },
      "outputs": [],
      "source": [
        "a=15.5\n",
        "print(type(a))\n",
        "b=str(a)\n",
        "print(type(b))"
      ]
    },
    {
      "cell_type": "markdown",
      "id": "f2d8cb14",
      "metadata": {
        "id": "f2d8cb14"
      },
      "source": [
        "## String to Int: Not poosible only if values given in alphabets "
      ]
    },
    {
      "cell_type": "markdown",
      "id": "2330acf7",
      "metadata": {
        "id": "2330acf7"
      },
      "source": [
        "## boolean "
      ]
    },
    {
      "cell_type": "code",
      "execution_count": null,
      "id": "050fd49a",
      "metadata": {
        "id": "050fd49a"
      },
      "outputs": [],
      "source": [
        "a=10\n",
        "b=9\n",
        "c=a>b\n",
        "print(bool(c))\n",
        "print(type(c))"
      ]
    },
    {
      "cell_type": "markdown",
      "id": "83ed394a",
      "metadata": {
        "id": "83ed394a"
      },
      "source": [
        "## Boolean to int"
      ]
    },
    {
      "cell_type": "code",
      "execution_count": null,
      "id": "0e4ea3b6",
      "metadata": {
        "id": "0e4ea3b6"
      },
      "outputs": [],
      "source": [
        "a=bool(10)\n",
        "print(type(a))\n",
        "b=int(a)\n",
        "print(type(b))"
      ]
    },
    {
      "cell_type": "markdown",
      "id": "ccc2b79a",
      "metadata": {
        "id": "ccc2b79a"
      },
      "source": [
        "## Boolean to float"
      ]
    },
    {
      "cell_type": "code",
      "execution_count": null,
      "id": "ae9dec90",
      "metadata": {
        "id": "ae9dec90"
      },
      "outputs": [],
      "source": [
        "a=bool(10)\n",
        "print(type(a))\n",
        "b=float(a)\n",
        "print(type(b))"
      ]
    },
    {
      "cell_type": "markdown",
      "id": "0f66cd42",
      "metadata": {
        "id": "0f66cd42"
      },
      "source": [
        "## Boolean to string"
      ]
    },
    {
      "cell_type": "code",
      "execution_count": null,
      "id": "2ed06441",
      "metadata": {
        "id": "2ed06441"
      },
      "outputs": [],
      "source": [
        "a=bool(10)\n",
        "print(type(a))\n",
        "b=str(a)\n",
        "print(type(b))"
      ]
    }
  ],
  "metadata": {
    "kernelspec": {
      "display_name": "Python 3 (ipykernel)",
      "language": "python",
      "name": "python3"
    },
    "language_info": {
      "codemirror_mode": {
        "name": "ipython",
        "version": 3
      },
      "file_extension": ".py",
      "mimetype": "text/x-python",
      "name": "python",
      "nbconvert_exporter": "python",
      "pygments_lexer": "ipython3",
      "version": "3.9.7"
    },
    "colab": {
      "name": "PYTHON.ipynb",
      "provenance": [],
      "include_colab_link": true
    }
  },
  "nbformat": 4,
  "nbformat_minor": 5
}