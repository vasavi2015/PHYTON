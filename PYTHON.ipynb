{
  "cells": [
    {
      "cell_type": "markdown",
      "metadata": {
        "id": "view-in-github",
        "colab_type": "text"
      },
      "source": [
        "<a href=\"https://colab.research.google.com/github/vasavi2015/PHYTON/blob/main/PYTHON.ipynb\" target=\"_parent\"><img src=\"https://colab.research.google.com/assets/colab-badge.svg\" alt=\"Open In Colab\"/></a>"
      ]
    },
    {
      "cell_type": "markdown",
      "id": "d6f463e1",
      "metadata": {
        "id": "d6f463e1"
      },
      "source": [
        "## Average of three numbers"
      ]
    },
    {
      "cell_type": "code",
      "execution_count": null,
      "id": "e7be5666",
      "metadata": {
        "id": "e7be5666",
        "outputId": "1707c2fb-a17d-4445-dc3d-eb4022258d2c"
      },
      "outputs": [
        {
          "name": "stdout",
          "output_type": "stream",
          "text": [
            "20.0\n",
            "<class 'float'>\n"
          ]
        }
      ],
      "source": [
        "a=10\n",
        "b=20\n",
        "c=30\n",
        "avg=(a+b+c)/3\n",
        "print(avg)\n",
        "print(type(avg))"
      ]
    },
    {
      "cell_type": "markdown",
      "id": "2b4dd257",
      "metadata": {
        "id": "2b4dd257"
      },
      "source": [
        "## Multiplication of numbers"
      ]
    },
    {
      "cell_type": "code",
      "execution_count": null,
      "id": "86615566",
      "metadata": {
        "id": "86615566",
        "outputId": "f458da0a-cd0f-40e9-e946-5b8e105aa8f9"
      },
      "outputs": [
        {
          "name": "stdout",
          "output_type": "stream",
          "text": [
            "8\n",
            "<class 'int'>\n"
          ]
        }
      ],
      "source": [
        "a=4\n",
        "b=2\n",
        "c=a*b\n",
        "print(c)\n",
        "print(type(c))"
      ]
    },
    {
      "cell_type": "markdown",
      "id": "b1779fc1",
      "metadata": {
        "id": "b1779fc1"
      },
      "source": [
        "## Dynamic addition of two numbers"
      ]
    },
    {
      "cell_type": "code",
      "execution_count": null,
      "id": "9d3ffd0c",
      "metadata": {
        "id": "9d3ffd0c",
        "outputId": "9a26b47e-c398-49da-cea4-98ca6e80008c"
      },
      "outputs": [
        {
          "name": "stdout",
          "output_type": "stream",
          "text": [
            "Enter the number:1\n",
            "Enter the number:3\n",
            "4\n",
            "<class 'int'>\n"
          ]
        }
      ],
      "source": [
        "a=int(input(\"Enter the number:\"))\n",
        "b=int(input(\"Enter the number:\"))\n",
        "add=a+b\n",
        "print(add)\n",
        "print(type(add))"
      ]
    },
    {
      "cell_type": "markdown",
      "id": "942cb84b",
      "metadata": {
        "id": "942cb84b"
      },
      "source": [
        "## Type conversions"
      ]
    },
    {
      "cell_type": "markdown",
      "id": "3f20ba11",
      "metadata": {
        "id": "3f20ba11"
      },
      "source": [
        "## convert int to float"
      ]
    },
    {
      "cell_type": "code",
      "execution_count": null,
      "id": "ffbdd18e",
      "metadata": {
        "id": "ffbdd18e",
        "outputId": "d243d51f-a1ee-41b1-e828-6304b351c4d5"
      },
      "outputs": [
        {
          "name": "stdout",
          "output_type": "stream",
          "text": [
            "<class 'int'>\n",
            "<class 'float'>\n",
            "10\n",
            "10.0\n"
          ]
        }
      ],
      "source": [
        "a=10\n",
        "print(type(a))\n",
        "b=float(a)\n",
        "print(type(b))\n",
        "print(a)\n",
        "print(b)\n"
      ]
    },
    {
      "cell_type": "markdown",
      "id": "e4014eed",
      "metadata": {
        "id": "e4014eed"
      },
      "source": [
        "## float to int"
      ]
    },
    {
      "cell_type": "code",
      "execution_count": null,
      "id": "bd4a964b",
      "metadata": {
        "id": "bd4a964b",
        "outputId": "d62fe4d1-0011-411e-f4aa-eeeb43985bfa"
      },
      "outputs": [
        {
          "name": "stdout",
          "output_type": "stream",
          "text": [
            "<class 'float'>\n",
            "<class 'int'>\n",
            "15\n"
          ]
        }
      ],
      "source": [
        "a=15.5\n",
        "print(type(a))\n",
        "b=int(a)\n",
        "print(type(b))\n",
        "print(b)"
      ]
    },
    {
      "cell_type": "markdown",
      "id": "41b20307",
      "metadata": {
        "id": "41b20307"
      },
      "source": [
        "## int to string"
      ]
    },
    {
      "cell_type": "code",
      "execution_count": null,
      "id": "1910bb10",
      "metadata": {
        "id": "1910bb10",
        "outputId": "d63b355e-fd89-45eb-d725-e7f35dbd9068"
      },
      "outputs": [
        {
          "name": "stdout",
          "output_type": "stream",
          "text": [
            "<class 'int'>\n",
            "<class 'str'>\n"
          ]
        }
      ],
      "source": [
        "a=15\n",
        "b=str(a)\n",
        "print(type(a))\n",
        "print(type(b))"
      ]
    },
    {
      "cell_type": "markdown",
      "id": "9f66cc86",
      "metadata": {
        "id": "9f66cc86"
      },
      "source": [
        "## float to string "
      ]
    },
    {
      "cell_type": "code",
      "execution_count": null,
      "id": "eb611be5",
      "metadata": {
        "id": "eb611be5",
        "outputId": "e76bf4ee-6a36-4a4f-d3e9-d477fa7728de"
      },
      "outputs": [
        {
          "name": "stdout",
          "output_type": "stream",
          "text": [
            "<class 'float'>\n",
            "<class 'str'>\n"
          ]
        }
      ],
      "source": [
        "a=15.5\n",
        "print(type(a))\n",
        "b=str(a)\n",
        "print(type(b))"
      ]
    },
    {
      "cell_type": "markdown",
      "id": "271679c3",
      "metadata": {
        "id": "271679c3"
      },
      "source": [
        "## String to Int: Not poosible only if values given in alphabets "
      ]
    },
    {
      "cell_type": "markdown",
      "id": "7a79fdd5",
      "metadata": {
        "id": "7a79fdd5"
      },
      "source": [
        "## boolean "
      ]
    },
    {
      "cell_type": "code",
      "execution_count": null,
      "id": "ee5ffc41",
      "metadata": {
        "id": "ee5ffc41",
        "outputId": "f5575914-0ba7-4291-b1f9-80e10eeb2aab"
      },
      "outputs": [
        {
          "name": "stdout",
          "output_type": "stream",
          "text": [
            "True\n",
            "<class 'bool'>\n"
          ]
        }
      ],
      "source": [
        "a=10\n",
        "b=9\n",
        "c=a>b\n",
        "print(bool(c))\n",
        "print(type(c))"
      ]
    },
    {
      "cell_type": "markdown",
      "id": "459d2283",
      "metadata": {
        "id": "459d2283"
      },
      "source": [
        "## Boolean to int"
      ]
    },
    {
      "cell_type": "code",
      "execution_count": null,
      "id": "779eb3e7",
      "metadata": {
        "id": "779eb3e7",
        "outputId": "abf9976e-2fcd-45eb-bbc4-8cfa259e6bb7"
      },
      "outputs": [
        {
          "name": "stdout",
          "output_type": "stream",
          "text": [
            "<class 'bool'>\n",
            "<class 'int'>\n"
          ]
        }
      ],
      "source": [
        "a=bool(10)\n",
        "print(type(a))\n",
        "b=int(a)\n",
        "print(type(b))"
      ]
    },
    {
      "cell_type": "markdown",
      "id": "f5ffd3d1",
      "metadata": {
        "id": "f5ffd3d1"
      },
      "source": [
        "## Boolean to float"
      ]
    },
    {
      "cell_type": "code",
      "execution_count": null,
      "id": "75773fcf",
      "metadata": {
        "id": "75773fcf",
        "outputId": "3ffde52a-e4a8-4cfc-f349-46fb22af78c9"
      },
      "outputs": [
        {
          "name": "stdout",
          "output_type": "stream",
          "text": [
            "<class 'bool'>\n",
            "<class 'float'>\n"
          ]
        }
      ],
      "source": [
        "a=bool(10)\n",
        "print(type(a))\n",
        "b=float(a)\n",
        "print(type(b))"
      ]
    },
    {
      "cell_type": "markdown",
      "id": "0bf753f1",
      "metadata": {
        "id": "0bf753f1"
      },
      "source": [
        "## Boolean to string"
      ]
    },
    {
      "cell_type": "code",
      "execution_count": null,
      "id": "f265ade9",
      "metadata": {
        "id": "f265ade9",
        "outputId": "75e6da4a-a4d2-437a-cab4-c5ad736e5617"
      },
      "outputs": [
        {
          "name": "stdout",
          "output_type": "stream",
          "text": [
            "<class 'bool'>\n",
            "<class 'str'>\n"
          ]
        }
      ],
      "source": [
        "a=bool(10)\n",
        "print(type(a))\n",
        "b=str(a)\n",
        "print(type(b))"
      ]
    },
    {
      "cell_type": "code",
      "execution_count": null,
      "id": "980d5bab",
      "metadata": {
        "id": "980d5bab"
      },
      "outputs": [],
      "source": [
        ""
      ]
    }
  ],
  "metadata": {
    "kernelspec": {
      "display_name": "Python 3 (ipykernel)",
      "language": "python",
      "name": "python3"
    },
    "language_info": {
      "codemirror_mode": {
        "name": "ipython",
        "version": 3
      },
      "file_extension": ".py",
      "mimetype": "text/x-python",
      "name": "python",
      "nbconvert_exporter": "python",
      "pygments_lexer": "ipython3",
      "version": "3.9.7"
    },
    "colab": {
      "name": "PYTHON.ipynb",
      "provenance": [],
      "include_colab_link": true
    }
  },
  "nbformat": 4,
  "nbformat_minor": 5
}