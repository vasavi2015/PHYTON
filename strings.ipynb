{
  "nbformat": 4,
  "nbformat_minor": 0,
  "metadata": {
    "colab": {
      "name": "strings.ipynb",
      "provenance": [],
      "authorship_tag": "ABX9TyPrzGxXNjQl5muRp/R5rhet",
      "include_colab_link": true
    },
    "kernelspec": {
      "name": "python3",
      "display_name": "Python 3"
    },
    "language_info": {
      "name": "python"
    }
  },
  "cells": [
    {
      "cell_type": "markdown",
      "metadata": {
        "id": "view-in-github",
        "colab_type": "text"
      },
      "source": [
        "<a href=\"https://colab.research.google.com/github/vasavi2015/PHYTON/blob/main/strings.ipynb\" target=\"_parent\"><img src=\"https://colab.research.google.com/assets/colab-badge.svg\" alt=\"Open In Colab\"/></a>"
      ]
    },
    {
      "cell_type": "markdown",
      "source": [
        "STRINGS"
      ],
      "metadata": {
        "id": "aA7OXYMd614Y"
      }
    },
    {
      "cell_type": "code",
      "source": [
        "a=\"Vasavi\"\n",
        "print(a)\n",
        "print(type(a))\n",
        "print(a[1])"
      ],
      "metadata": {
        "colab": {
          "base_uri": "https://localhost:8080/",
          "height": 0
        },
        "id": "i64P5hwv66hq",
        "outputId": "5f70bd8d-4559-458e-f4b8-d8d22dfe371a"
      },
      "execution_count": 5,
      "outputs": [
        {
          "output_type": "stream",
          "name": "stdout",
          "text": [
            "Vasavi\n",
            "<class 'str'>\n",
            "a\n"
          ]
        }
      ]
    },
    {
      "cell_type": "markdown",
      "source": [
        "FIND THE LENGTH OF THE STRING"
      ],
      "metadata": {
        "id": "_DBefIhS7_jo"
      }
    },
    {
      "cell_type": "code",
      "source": [
        "a=\"Vasavi\"\n",
        "print(len(a))"
      ],
      "metadata": {
        "colab": {
          "base_uri": "https://localhost:8080/",
          "height": 0
        },
        "id": "Tn1PUJqK7c1O",
        "outputId": "b9d24405-0e8d-4d15-bc1c-b52ab8f4fd43"
      },
      "execution_count": 6,
      "outputs": [
        {
          "output_type": "stream",
          "name": "stdout",
          "text": [
            "6\n"
          ]
        }
      ]
    },
    {
      "cell_type": "code",
      "source": [
        "a=\"VasaviReddyYeduru\"\n",
        "b=\"AkshayaMonangi\"\n",
        "print(len(a))\n",
        "print(len(b))"
      ],
      "metadata": {
        "colab": {
          "base_uri": "https://localhost:8080/",
          "height": 0
        },
        "id": "Ny-tR6UT8hML",
        "outputId": "a515d752-434b-41b5-cd8b-bae2f21d5f76"
      },
      "execution_count": 9,
      "outputs": [
        {
          "output_type": "stream",
          "name": "stdout",
          "text": [
            "17\n",
            "14\n"
          ]
        }
      ]
    },
    {
      "cell_type": "markdown",
      "source": [
        "True or False"
      ],
      "metadata": {
        "id": "N_hRbUOw9sxP"
      }
    },
    {
      "cell_type": "code",
      "source": [
        "a=\"Vasavi is a very good girl\"\n",
        "print(\"Vasavi\" in a)"
      ],
      "metadata": {
        "colab": {
          "base_uri": "https://localhost:8080/",
          "height": 0
        },
        "id": "Diqjq-009aKI",
        "outputId": "63ce76e3-be9f-4152-8a4a-39624c910c0b"
      },
      "execution_count": 11,
      "outputs": [
        {
          "output_type": "stream",
          "name": "stdout",
          "text": [
            "True\n"
          ]
        }
      ]
    },
    {
      "cell_type": "code",
      "source": [
        "a=\"Vasavi is a very good girl\"\n",
        "print(\"Varun\" in a)"
      ],
      "metadata": {
        "colab": {
          "base_uri": "https://localhost:8080/",
          "height": 0
        },
        "id": "RE8h0IoR9mIl",
        "outputId": "67191fc5-5e1b-431c-d675-326cd2ebcbe3"
      },
      "execution_count": 12,
      "outputs": [
        {
          "output_type": "stream",
          "name": "stdout",
          "text": [
            "False\n"
          ]
        }
      ]
    },
    {
      "cell_type": "markdown",
      "source": [
        "Example for slice"
      ],
      "metadata": {
        "id": "f5N1whUa-CPj"
      }
    },
    {
      "cell_type": "code",
      "source": [
        ""
      ],
      "metadata": {
        "id": "OueFczsb9ro7"
      },
      "execution_count": null,
      "outputs": []
    }
  ]
}