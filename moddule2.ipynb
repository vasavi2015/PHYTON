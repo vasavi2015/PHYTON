{
  "nbformat": 4,
  "nbformat_minor": 0,
  "metadata": {
    "colab": {
      "name": "moddule2.ipynb",
      "provenance": [],
      "authorship_tag": "ABX9TyNBFDdtoIvYADKY3EXYUlHG",
      "include_colab_link": true
    },
    "kernelspec": {
      "name": "python3",
      "display_name": "Python 3"
    },
    "language_info": {
      "name": "python"
    }
  },
  "cells": [
    {
      "cell_type": "markdown",
      "metadata": {
        "id": "view-in-github",
        "colab_type": "text"
      },
      "source": [
        "<a href=\"https://colab.research.google.com/github/vasavi2015/PHYTON/blob/main/moddule2.ipynb\" target=\"_parent\"><img src=\"https://colab.research.google.com/assets/colab-badge.svg\" alt=\"Open In Colab\"/></a>"
      ]
    },
    {
      "cell_type": "markdown",
      "source": [
        "**MODULE 2**"
      ],
      "metadata": {
        "id": "GRJM1K3wo-mB"
      }
    },
    {
      "cell_type": "markdown",
      "source": [
        "**Create a function which accepts two inputs from the user and compute n\n",
        "Cr**"
      ],
      "metadata": {
        "id": "sCCuQj3erzsI"
      }
    },
    {
      "cell_type": "code",
      "execution_count": null,
      "metadata": {
        "colab": {
          "base_uri": "https://localhost:8080/"
        },
        "id": "aklqdPrjo0AW",
        "outputId": "edf7e4d8-cf4c-49dc-b380-4d4ed6a72106"
      },
      "outputs": [
        {
          "output_type": "stream",
          "name": "stdout",
          "text": [
            "Enter the value of n= 6\n",
            "Enter the value of r= 4\n",
            "15\n"
          ]
        }
      ],
      "source": [
        "\n",
        "def nCr(n, r):\n",
        "\treturn (fact(n) / (fact(r)* fact(n - r)))\n",
        "def fact(n):\n",
        "\tres = 1\n",
        "\tfor i in range(2, n+1):\n",
        "\t\tres = res * i\n",
        "\treturn res\n",
        "n=(int(input(\"Enter the value of n= \")))\n",
        "r=(int(input(\"Enter the value of r= \")))\n",
        "print(int(nCr(n, r)))\n",
        "\n"
      ]
    },
    {
      "cell_type": "markdown",
      "source": [
        " **Program to print a specified list after removing the 0th, 4th and 5th elements. \n",
        "Sample List : ['Red', 'Green', 'White', 'Black', 'Pink', 'Yellow'] \n",
        "Expected Output : ['Green', 'White', 'Black']**"
      ],
      "metadata": {
        "id": "Ymw8zPgir9xY"
      }
    },
    {
      "cell_type": "code",
      "source": [
        "list=['Red', 'Green', 'White', 'Black', 'Pink', 'Yellow']\n",
        "unwanted_list = [\"Red\",\"Pink\",\"Yellow\"]\n",
        "list= [ele for ele in list if ele not in unwanted_list]\n",
        "print(list)\n"
      ],
      "metadata": {
        "id": "Brrqxc48ppbz",
        "colab": {
          "base_uri": "https://localhost:8080/"
        },
        "outputId": "c4a4a762-be22-4202-ed8b-1c3b453e8521"
      },
      "execution_count": 7,
      "outputs": [
        {
          "output_type": "stream",
          "name": "stdout",
          "text": [
            "['Green', 'White', 'Black']\n"
          ]
        }
      ]
    },
    {
      "cell_type": "markdown",
      "source": [
        "**Program to get the difference between the two lists**"
      ],
      "metadata": {
        "id": "K6Tri8_i4QN7"
      }
    },
    {
      "cell_type": "code",
      "source": [
        "a= [\"Red\",\"Pink\",\"Yellow\"]\n",
        "x=set(a)\n",
        "b=['Green', 'Pink', 'Black']\n",
        "y=set(b)\n",
        "z=x.difference(y)\n",
        "diff=list(z)\n",
        "print(z)"
      ],
      "metadata": {
        "id": "wV63wHl7yc4e",
        "colab": {
          "base_uri": "https://localhost:8080/",
          "height": 217
        },
        "outputId": "5fc7765c-e2fe-4e45-91a3-2a0a9bbd58a6"
      },
      "execution_count": 10,
      "outputs": [
        {
          "output_type": "error",
          "ename": "TypeError",
          "evalue": "ignored",
          "traceback": [
            "\u001b[0;31m---------------------------------------------------------------------------\u001b[0m",
            "\u001b[0;31mTypeError\u001b[0m                                 Traceback (most recent call last)",
            "\u001b[0;32m<ipython-input-10-b28a3d399c5f>\u001b[0m in \u001b[0;36m<module>\u001b[0;34m()\u001b[0m\n\u001b[1;32m      4\u001b[0m \u001b[0my\u001b[0m\u001b[0;34m=\u001b[0m\u001b[0mset\u001b[0m\u001b[0;34m(\u001b[0m\u001b[0mb\u001b[0m\u001b[0;34m)\u001b[0m\u001b[0;34m\u001b[0m\u001b[0;34m\u001b[0m\u001b[0m\n\u001b[1;32m      5\u001b[0m \u001b[0mz\u001b[0m\u001b[0;34m=\u001b[0m\u001b[0mx\u001b[0m\u001b[0;34m.\u001b[0m\u001b[0mdifference\u001b[0m\u001b[0;34m(\u001b[0m\u001b[0my\u001b[0m\u001b[0;34m)\u001b[0m\u001b[0;34m\u001b[0m\u001b[0;34m\u001b[0m\u001b[0m\n\u001b[0;32m----> 6\u001b[0;31m \u001b[0mdiff\u001b[0m\u001b[0;34m=\u001b[0m\u001b[0mlist\u001b[0m\u001b[0;34m(\u001b[0m\u001b[0mz\u001b[0m\u001b[0;34m)\u001b[0m\u001b[0;34m\u001b[0m\u001b[0;34m\u001b[0m\u001b[0m\n\u001b[0m\u001b[1;32m      7\u001b[0m \u001b[0mprint\u001b[0m\u001b[0;34m(\u001b[0m\u001b[0mz\u001b[0m\u001b[0;34m)\u001b[0m\u001b[0;34m\u001b[0m\u001b[0;34m\u001b[0m\u001b[0m\n",
            "\u001b[0;31mTypeError\u001b[0m: 'list' object is not callable"
          ]
        }
      ]
    },
    {
      "cell_type": "markdown",
      "source": [
        "**Program to find the second smallest number and second largest number in a list.**"
      ],
      "metadata": {
        "id": "MTcOV8JE9msU"
      }
    },
    {
      "cell_type": "code",
      "source": [
        "list=[1,2,4,3]\n",
        "length=len(list)\n",
        "list.sort()\n",
        "print(\"Second Largest Number:\",list[length-2])\n",
        "print(\"Second Smallest Number:\",list[1])"
      ],
      "metadata": {
        "colab": {
          "base_uri": "https://localhost:8080/",
          "height": 217
        },
        "id": "u5Cwx3rcBGlO",
        "outputId": "2323cc0e-40de-432d-959d-9afeee1153a1"
      },
      "execution_count": 39,
      "outputs": [
        {
          "output_type": "error",
          "ename": "TypeError",
          "evalue": "ignored",
          "traceback": [
            "\u001b[0;31m---------------------------------------------------------------------------\u001b[0m",
            "\u001b[0;31mTypeError\u001b[0m                                 Traceback (most recent call last)",
            "\u001b[0;32m<ipython-input-39-0f204c5f7701>\u001b[0m in \u001b[0;36m<module>\u001b[0;34m()\u001b[0m\n\u001b[1;32m      3\u001b[0m \u001b[0mlength\u001b[0m\u001b[0;34m=\u001b[0m\u001b[0mlen\u001b[0m\u001b[0;34m(\u001b[0m\u001b[0mlist\u001b[0m\u001b[0;34m)\u001b[0m\u001b[0;34m\u001b[0m\u001b[0;34m\u001b[0m\u001b[0m\n\u001b[1;32m      4\u001b[0m \u001b[0mlist\u001b[0m\u001b[0;34m.\u001b[0m\u001b[0msort\u001b[0m\u001b[0;34m(\u001b[0m\u001b[0;34m)\u001b[0m\u001b[0;34m\u001b[0m\u001b[0;34m\u001b[0m\u001b[0m\n\u001b[0;32m----> 5\u001b[0;31m \u001b[0mprint\u001b[0m\u001b[0;34m(\u001b[0m\u001b[0;34m\"Second Largest Number:\"\u001b[0m\u001b[0;34m,\u001b[0m\u001b[0mlist\u001b[0m\u001b[0;34m[\u001b[0m\u001b[0mlength\u001b[0m\u001b[0;34m-\u001b[0m\u001b[0;36m2\u001b[0m\u001b[0;34m]\u001b[0m\u001b[0;34m)\u001b[0m\u001b[0;34m\u001b[0m\u001b[0;34m\u001b[0m\u001b[0m\n\u001b[0m\u001b[1;32m      6\u001b[0m \u001b[0mprint\u001b[0m\u001b[0;34m(\u001b[0m\u001b[0;34m\"Second Smallest Number:\"\u001b[0m\u001b[0;34m,\u001b[0m\u001b[0mlist\u001b[0m\u001b[0;34m[\u001b[0m\u001b[0;36m1\u001b[0m\u001b[0;34m]\u001b[0m\u001b[0;34m)\u001b[0m\u001b[0;34m\u001b[0m\u001b[0;34m\u001b[0m\u001b[0m\n",
            "\u001b[0;31mTypeError\u001b[0m: unsupported operand type(s) for -: 'NoneType' and 'int'"
          ]
        }
      ]
    },
    {
      "cell_type": "markdown",
      "source": [
        ""
      ],
      "metadata": {
        "id": "F5hiMd5zEKd6"
      }
    },
    {
      "cell_type": "code",
      "source": [
        ""
      ],
      "metadata": {
        "id": "t2n4DZCgCWho"
      },
      "execution_count": null,
      "outputs": []
    }
  ]
}