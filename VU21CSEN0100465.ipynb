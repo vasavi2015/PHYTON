{
  "nbformat": 4,
  "nbformat_minor": 0,
  "metadata": {
    "colab": {
      "name": "VU21CSEN0100465.ipynb",
      "provenance": [],
      "authorship_tag": "ABX9TyPo3wUXtavlI5qhpUcbfbcd",
      "include_colab_link": true
    },
    "kernelspec": {
      "name": "python3",
      "display_name": "Python 3"
    },
    "language_info": {
      "name": "python"
    }
  },
  "cells": [
    {
      "cell_type": "markdown",
      "metadata": {
        "id": "view-in-github",
        "colab_type": "text"
      },
      "source": [
        "<a href=\"https://colab.research.google.com/github/vasavi2015/PHYTON/blob/main/VU21CSEN0100465.ipynb\" target=\"_parent\"><img src=\"https://colab.research.google.com/assets/colab-badge.svg\" alt=\"Open In Colab\"/></a>"
      ]
    },
    {
      "cell_type": "markdown",
      "source": [
        "#1.a. Build a calculator by taking operations addition,subtraction,multiplication and division"
      ],
      "metadata": {
        "id": "_y4xWkEll_fP"
      }
    },
    {
      "cell_type": "code",
      "source": [
        "\n",
        "def add(x, y):\n",
        "    return x + y\n",
        "\n",
        "def subtract(x, y):\n",
        "    return x - y\n",
        "\n",
        "def multiply(x, y):\n",
        "    return x * y\n",
        "\n",
        "def divide(x, y):\n",
        "    return x / y\n",
        "\n",
        "\n",
        "print(\"Select operation.\")\n",
        "print(\"1.Add\")\n",
        "print(\"2.Subtract\")\n",
        "print(\"3.Multiply\")\n",
        "print(\"4.Divide\")\n",
        "\n",
        "while True:\n",
        "    choice = input(\"Enter choice(1/2/3/4): \")\n",
        "    if choice in ('1', '2', '3', '4'):\n",
        "        num1 = float(input(\"Enter number: \"))\n",
        "        num2 = float(input(\"Enter number: \"))\n",
        "\n",
        "        if choice == '1':\n",
        "            print(num1, \"+\", num2, \"=\", add(num1, num2))\n",
        "\n",
        "        elif choice == '2':\n",
        "            print(num1, \"-\", num2, \"=\", subtract(num1, num2))\n",
        "\n",
        "        elif choice == '3':\n",
        "            print(num1, \"*\", num2, \"=\", multiply(num1, num2))\n",
        "\n",
        "        elif choice == '4':\n",
        "            print(num1, \"/\", num2, \"=\", divide(num1, num2))\n",
        "        next_calculation = input(\"Next calculation? (yes/no): \")\n",
        "        if next_calculation == \"no\":\n",
        "          break\n",
        "    \n",
        "    else:\n",
        "        print(\"Invalid Input\")"
      ],
      "metadata": {
        "colab": {
          "base_uri": "https://localhost:8080/"
        },
        "id": "f35Vz8o1mZ1O",
        "outputId": "89e6fc60-9989-4e06-d874-7c2a46c51db6"
      },
      "execution_count": 1,
      "outputs": [
        {
          "name": "stdout",
          "output_type": "stream",
          "text": [
            "Select operation.\n",
            "1.Add\n",
            "2.Subtract\n",
            "3.Multiply\n",
            "4.Divide\n",
            "Enter choice(1/2/3/4): 1\n",
            "Enter first number: 1\n",
            "Enter second number: 2\n",
            "1.0 + 2.0 = 3.0\n",
            "Next calculation? (yes/no): no\n"
          ]
        }
      ]
    },
    {
      "cell_type": "markdown",
      "source": [
        "#1.b Check whether number is perfect or not"
      ],
      "metadata": {
        "id": "-foGdv8Tmunq"
      }
    },
    {
      "cell_type": "code",
      "source": [
        "n = int(input(\"Enter any number: \"))\n",
        "sum1 = 0\n",
        "for i in range(1, n):\n",
        "    if(n % i == 0):\n",
        "        sum1 = sum1 + i\n",
        "if (sum1 == n):\n",
        "    print(\"The number is a Perfect number\")\n",
        "else:\n",
        "    print(\"The number is not a Perfect number\")"
      ],
      "metadata": {
        "colab": {
          "base_uri": "https://localhost:8080/"
        },
        "id": "_lhKJO3mmoKO",
        "outputId": "a4e019a7-0703-4dad-d642-1f6a6147432d"
      },
      "execution_count": 2,
      "outputs": [
        {
          "output_type": "stream",
          "name": "stdout",
          "text": [
            "Enter any number: 2\n",
            "The number is not a Perfect number\n"
          ]
        }
      ]
    },
    {
      "cell_type": "markdown",
      "source": [
        "#2.a find product of two number using recurssion"
      ],
      "metadata": {
        "id": "LlICh9ZLnwR-"
      }
    },
    {
      "cell_type": "code",
      "source": [
        "def product(num1,num2):\n",
        "    if(num1<num2):\n",
        "        return product(num2,num1)\n",
        "    elif(num2!=0):\n",
        "         return(num1+product(num1,num2-1))\n",
        "    else:\n",
        "         return 0\n",
        "num1=int(input(\"Enter first number: \"))\n",
        "num2=int(input(\"Enter second number: \"))\n",
        "print(\"product is: \",product(num1,num2))"
      ],
      "metadata": {
        "colab": {
          "base_uri": "https://localhost:8080/"
        },
        "id": "6b8dOAlqntgo",
        "outputId": "e26dc7ea-db6a-4415-9c38-0b7af0a27db7"
      },
      "execution_count": 3,
      "outputs": [
        {
          "output_type": "stream",
          "name": "stdout",
          "text": [
            "Enter first number: 2\n",
            "Enter second number: 3\n",
            "product is:  6\n"
          ]
        }
      ]
    },
    {
      "cell_type": "markdown",
      "source": [
        "#2.b Take list apple, banana,pine apple, guavava, grape print apple,guavava,grape"
      ],
      "metadata": {
        "id": "ngq6TKvmoVN3"
      }
    },
    {
      "cell_type": "code",
      "source": [
        "list1=['apple','banana','pineapple','guavava','grape']\n",
        "list1.pop(1)\n",
        "list1.pop(1)\n",
        "print(list1)"
      ],
      "metadata": {
        "colab": {
          "base_uri": "https://localhost:8080/"
        },
        "id": "AYovlDF4oRd1",
        "outputId": "5b7458df-ca8a-45ef-a89d-031dfd8caa7d"
      },
      "execution_count": 4,
      "outputs": [
        {
          "output_type": "stream",
          "name": "stdout",
          "text": [
            "['apple', 'guavava', 'grape']\n"
          ]
        }
      ]
    },
    {
      "cell_type": "markdown",
      "source": [
        "#3. find number of characters in line and words in text file "
      ],
      "metadata": {
        "id": "tmoESZ-ro2om"
      }
    },
    {
      "cell_type": "code",
      "source": [
        "\n",
        "def counter(fname):\n",
        "\n",
        "\tnum_words = 0\n",
        "\t\n",
        "\tnum_lines = 0\n",
        "\t\n",
        "\tnum_charc = 0\n",
        "\n",
        "\twith open(fname, 'r') as f:\n",
        "\n",
        "\t\tfor line in f:\n",
        "\n",
        "\t\t\tnum_lines += 1\n",
        "\n",
        "\t\t\tword = 'Y'\n",
        "\n",
        "\t\t\tfor letter in line:\n",
        "\n",
        "\t\t\t\tif (letter != ' ' and word == 'Y'):\n",
        "\t\n",
        "\t\t\t\t\tnum_words += 1\n",
        "\t\t\t\t\t\n",
        "\t\t\t\n",
        "\t\t\t\t\tword = 'N'\n",
        "\t\t\t\n",
        "\t\t\t\telif (letter == ' '):\n",
        "\t\t\t\t\t\n",
        "\t\t\t\tfor i in letter:\n",
        "\t\t\t\t\tif(i !=\" \" and i !=\"\\n\"):\n",
        "\t\t\t\t\t\n",
        "\t\t\t\t\t\tnum_charc += 1\n",
        "\t\t\t\t\t\n",
        "\tprint(\"Number of words in text file: \", num_words)\n",
        "\t\n",
        "\tprint(\"Number of lines in text file: \", num_lines)\n",
        "\t\n",
        "\tprint('Number of characters in text file: ', num_charc)\n",
        "\n",
        "\t\n",
        "# Driver Code:\n",
        "if __name__ == '__main__':\n",
        "\tfname = 'File1.txt'\n",
        "\n"
      ],
      "metadata": {
        "id": "-u2UB5WCozaL"
      },
      "execution_count": null,
      "outputs": []
    },
    {
      "cell_type": "markdown",
      "source": [
        "# 4.Create a table booking bus tickets fields are booking id,name,age,phone number,location insert upto five values in table and find out the names of passenger where age less than 30."
      ],
      "metadata": {
        "id": "YsYhIufgppOF"
      }
    },
    {
      "cell_type": "code",
      "source": [
        "Create table table_name(Booking Id varchar(20),Names Char (20),Age number (2),Phone number(10),location char(30)) \n",
        "\n",
        "insert into table2 values('IG123UF4','VARUN','18',9999999999,'GAJUWAKA');\n",
        "insert into table2 values('IG453UF4','VASAVI','19',9999929999,'MVP');\n",
        "insert into table2 values('IG123UF4','CHERRY','12',2999999999,'NAD');\n",
        "insert into table2 values('IG453EF4','MONI','20',9999939999,'vzg');\n",
        "insert into table2 values('IG1235UF4','LATHI','35',9999993499,'Gwk');\n",
        "\n",
        "select * from table2 where age<30\n",
        "\n"
      ],
      "metadata": {
        "id": "r-xx9if1po-Q"
      },
      "execution_count": null,
      "outputs": []
    }
  ]
}