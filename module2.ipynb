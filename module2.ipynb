{
  "nbformat": 4,
  "nbformat_minor": 0,
  "metadata": {
    "colab": {
      "name": "module2.ipynb",
      "provenance": [],
      "authorship_tag": "ABX9TyPJKQoeoJiOQg1O9lv1pl+8",
      "include_colab_link": true
    },
    "kernelspec": {
      "name": "python3",
      "display_name": "Python 3"
    },
    "language_info": {
      "name": "python"
    }
  },
  "cells": [
    {
      "cell_type": "markdown",
      "metadata": {
        "id": "view-in-github",
        "colab_type": "text"
      },
      "source": [
        "<a href=\"https://colab.research.google.com/github/vasavi2015/PHYTON/blob/main/module2.ipynb\" target=\"_parent\"><img src=\"https://colab.research.google.com/assets/colab-badge.svg\" alt=\"Open In Colab\"/></a>"
      ]
    },
    {
      "cell_type": "markdown",
      "source": [
        "**Create a function which accepts two inputs from the user and compute n\n",
        "Cr**"
      ],
      "metadata": {
        "id": "sCCuQj3erzsI"
      }
    },
    {
      "cell_type": "code",
      "execution_count": null,
      "metadata": {
        "colab": {
          "base_uri": "https://localhost:8080/"
        },
        "id": "aklqdPrjo0AW",
        "outputId": "edf7e4d8-cf4c-49dc-b380-4d4ed6a72106"
      },
      "outputs": [
        {
          "output_type": "stream",
          "name": "stdout",
          "text": [
            "Enter the value of n= 6\n",
            "Enter the value of r= 4\n",
            "15\n"
          ]
        }
      ],
      "source": [
        "\n",
        "def nCr(n, r):\n",
        "\treturn (fact(n) / (fact(r)* fact(n - r)))\n",
        "def fact(n):\n",
        "\tres = 1\n",
        "\tfor i in range(2, n+1):\n",
        "\t\tres = res * i\n",
        "\treturn res\n",
        "n=(int(input(\"Enter the value of n= \")))\n",
        "r=(int(input(\"Enter the value of r= \")))\n",
        "print(int(nCr(n, r)))\n",
        "\n"
      ]
    },
    {
      "cell_type": "markdown",
      "source": [
        " **Program to print a specified list after removing the 0th, 4th and 5th elements. \n",
        "Sample List : ['Red', 'Green', 'White', 'Black', 'Pink', 'Yellow'] \n",
        "Expected Output : ['Green', 'White', 'Black']**"
      ],
      "metadata": {
        "id": "Ymw8zPgir9xY"
      }
    },
    {
      "cell_type": "code",
      "source": [
        "list=['Red', 'Green', 'White', 'Black', 'Pink', 'Yellow']\n",
        "unwanted_list = [\"Red\",\"Pink\",\"Yellow\"]\n",
        "list= [ele for ele in list if ele not in unwanted_list]\n",
        "print(list)\n"
      ],
      "metadata": {
        "id": "Brrqxc48ppbz",
        "colab": {
          "base_uri": "https://localhost:8080/"
        },
        "outputId": "c4a4a762-be22-4202-ed8b-1c3b453e8521"
      },
      "execution_count": null,
      "outputs": [
        {
          "output_type": "stream",
          "name": "stdout",
          "text": [
            "['Green', 'White', 'Black']\n"
          ]
        }
      ]
    },
    {
      "cell_type": "markdown",
      "source": [
        "**Program to get the difference between the two lists**"
      ],
      "metadata": {
        "id": "6JrBH76h9aUM"
      }
    },
    {
      "cell_type": "code",
      "execution_count": 1,
      "metadata": {
        "colab": {
          "base_uri": "https://localhost:8080/"
        },
        "id": "0tu_Y75f86KX",
        "outputId": "74f17348-e2ad-4366-f371-f3e7f92744aa"
      },
      "outputs": [
        {
          "output_type": "stream",
          "name": "stdout",
          "text": [
            "{'Red', 'Yellow'}\n"
          ]
        }
      ],
      "source": [
        "a= [\"Red\",\"Pink\",\"Yellow\"]\n",
        "x=set(a)\n",
        "b=['Green', 'Pink', 'Black']\n",
        "y=set(b)\n",
        "z=x.difference(y)\n",
        "diff=list(z)\n",
        "print(z)"
      ]
    },
    {
      "cell_type": "markdown",
      "source": [
        "**Program to find the second smallest number and second largest number in a list.**"
      ],
      "metadata": {
        "id": "x-VrQPvT9aaw"
      }
    },
    {
      "cell_type": "code",
      "source": [
        "list=[1,2,4,3]\n",
        "length=len(list)\n",
        "list.sort()\n",
        "print(\"Second Largest Number:\",list[length-2])\n",
        "print(\"Second Smallest Number:\",list[1])"
      ],
      "metadata": {
        "colab": {
          "base_uri": "https://localhost:8080/"
        },
        "id": "LHmggNzg9RDG",
        "outputId": "e9883924-bc0f-47f0-bdcc-b3539d3224a5"
      },
      "execution_count": 2,
      "outputs": [
        {
          "output_type": "stream",
          "name": "stdout",
          "text": [
            "Second Largest Number: 3\n",
            "Second Smallest Number: 2\n"
          ]
        }
      ]
    },
    {
      "cell_type": "markdown",
      "source": [
        "**Given list of tuples, remove all the tuples with length K. \n",
        "Input : test_list = [(4, 5), (4, ), (8, 6, 7), (1, ), (3, 4, 6, 7)], K = 2 \n",
        "Output : [(4, ), (8, 6, 7), (1, ), (3, 4, 6, 7)] \n",
        "Explanation : (4, 5) of len = 2 is removed.**"
      ],
      "metadata": {
        "id": "8Fa-o60W-C-s"
      }
    },
    {
      "cell_type": "code",
      "source": [
        "list = [(4, 5), (4, ), (8, 6, 7), (1, ), (3, 4, 6, 7)]\n"
      ],
      "metadata": {
        "id": "G-JJds6f-aIL"
      },
      "execution_count": null,
      "outputs": []
    }
  ]
}